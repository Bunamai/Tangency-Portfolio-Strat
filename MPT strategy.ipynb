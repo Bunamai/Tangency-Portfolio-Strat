{
 "cells": [
  {
   "cell_type": "markdown",
   "id": "fc955715",
   "metadata": {},
   "source": [
    "## Import libraries"
   ]
  },
  {
   "cell_type": "code",
   "execution_count": 1,
   "id": "0d69268b",
   "metadata": {
    "tags": []
   },
   "outputs": [
    {
     "data": {
      "text/html": [
       "<style>.container { width:100% !important; }</style>"
      ],
      "text/plain": [
       "<IPython.core.display.HTML object>"
      ]
     },
     "metadata": {},
     "output_type": "display_data"
    }
   ],
   "source": [
    "import numpy as np\n",
    "import pandas as pd\n",
    "import matplotlib.pyplot as plt\n",
    "from sklearn.linear_model import LinearRegression\n",
    "from datetime import date\n",
    "from dateutil.relativedelta import relativedelta\n",
    "import yfinance as yf\n",
    "from numpy.linalg import inv\n",
    "import warnings\n",
    "warnings.filterwarnings(\"ignore\")\n",
    "from IPython.display import display, HTML\n",
    "display(HTML(\"<style>.container { width:100% !important; }</style>\"))\n",
    "\n",
    "plt.rcParams[\"figure.figsize\"] = (20,20)"
   ]
  },
  {
   "cell_type": "markdown",
   "id": "b83f8af7",
   "metadata": {},
   "source": [
    "## Building a class backtest the tangency portfolio weightings"
   ]
  },
  {
   "cell_type": "code",
   "execution_count": 2,
   "id": "fa6f651c",
   "metadata": {
    "tags": []
   },
   "outputs": [],
   "source": [
    "class tangency_backtester:\n",
    "    def __init__(self, Return, equity, r, train_test_ratio, Capital):\n",
    "        \n",
    "        # Store the variables\n",
    "        self.Return = Return\n",
    "        self.equity = equity\n",
    "        self.r = r\n",
    "        self.Capital = Capital\n",
    "        \n",
    "        # Split the set\n",
    "        n = round(len(Return) * train_test_ratio)\n",
    "        self.Return_train = self.Return.iloc[:n]\n",
    "        self.Return_test = self.Return.iloc[n:]\n",
    "        self.equity_train = self.equity.iloc[:n]\n",
    "        self.equity_test = self.equity.iloc[n:]\n",
    "        \n",
    "        # Get the required matrices/ vectors\n",
    "        self.mu_vector = 252 * np.array(self.Return_train.mean()).T\n",
    "        self.one_vector = np.ones(len(self.Return_train.columns)).T\n",
    "        self.Cov_inverse = inv(252 * np.array(self.Return_train.cov()))\n",
    "        self.Cov = 252 * np.array(self.Return_train.cov())\n",
    "    \n",
    "        # Calculate the necessary variables\n",
    "        self.c_1_1 = self.one_vector.T.dot(self.Cov_inverse).dot(self.one_vector)\n",
    "        self.c_1_mu = self.one_vector.T.dot(self.Cov_inverse).dot(self.mu_vector)\n",
    "        self.c_mu_mu = self.mu_vector.T.dot(self.Cov_inverse).dot(self.mu_vector)\n",
    "     \n",
    "    # Get the gamma (sharpe), mean, SD and weightings of the tengency porfolio\n",
    "    def fit(self):\n",
    "        self.gamma = abs(np.sqrt(self.c_mu_mu - 2 * self.r * self.c_1_mu + (self.r**2) * self.c_1_1))\n",
    "        self.mu_t = (self.c_mu_mu - self.r * self.c_1_mu) / (self.c_1_mu - self.r * self.c_1_1)\n",
    "        self.sigma_t = self.gamma / (self.c_1_mu - self.r * self.c_1_1)\n",
    "        self.weightings_t = self.Cov_inverse.dot(self.mu_vector - self.r * self.one_vector) / (self.c_1_mu - self.r * self.c_1_1)\n",
    "    \n",
    "    # Plot the tengancy portfolio of train set (log scale)\n",
    "    def plot_train(self):\n",
    "        portfolio_equity = pd.Series(data=self.equity_train.dot(self.weightings_t), index=self.equity_train.index)\n",
    "        portfolio_return = np.log(portfolio_equity/ portfolio_equity.shift())\n",
    "        portfolio_return.dropna(inplace=True)\n",
    "        plt.plot(portfolio_return.cumsum())\n",
    "        plt.show()\n",
    "        plt.plot(portfolio_equity)\n",
    "        plt.show()\n",
    "        print(portfolio_equity[-1]/ portfolio_equity[0] - 1)\n",
    "        \n",
    "    # Plot and analysis the tengancy portfolio of test set\n",
    "    def plot_test(self):        \n",
    "        portfolio_equity = pd.Series(data=self.equity_test.dot(self.weightings_t), index=self.equity_test.index)\n",
    "        plt.plot(portfolio_equity)\n",
    "        plt.show()\n",
    "\n",
    "        \n",
    "    # Plot the combined equity curve and log return of train and test sets\n",
    "    def plot_train_test(self):\n",
    "        portfolio_equity_train = pd.Series(data=self.equity_train.dot(self.weightings_t), index=self.equity_train.index)\n",
    "        portfolio_equity_test = pd.Series(data=self.equity_test.dot(self.weightings_t), index=self.equity_test.index)\n",
    "        if portfolio_equity_train.min() <= 0:\n",
    "            Min = abs(portfolio_equity_train.min()) + 2\n",
    "            portfolio_equity_train += Min\n",
    "            portfolio_equity_test += Min\n",
    "        plt.plot(portfolio_equity_train, c=\"b\", label=\"Train\")\n",
    "        plt.plot(portfolio_equity_test, c=\"orange\", label=\"Test\")\n",
    "        plt.title(\"Equity curve\")\n",
    "        plt.xlabel(\"Date\")\n",
    "        plt.ylabel(\"Equity\")\n",
    "        plt.legend()\n",
    "        plt.show()\n",
    "        portfolio_return_train = pd.Series(np.log(portfolio_equity_train / portfolio_equity_train.shift()), index=portfolio_equity_train.index)\n",
    "        portfolio_return_test = pd.Series(np.log(portfolio_equity_test / portfolio_equity_test.shift()), index=portfolio_equity_test.index)\n",
    "        portfolio_return_train.dropna(inplace=True)\n",
    "        portfolio_return_test.dropna(inplace=True)\n",
    "        portfolio_return_test[0] += portfolio_return_train.cumsum()[-1]\n",
    "        plt.plot(portfolio_return_train.cumsum(), c=\"b\", label=\"Train\")\n",
    "        plt.plot(portfolio_return_test.cumsum(), c=\"orange\", label=\"Test\")\n",
    "        plt.title(\"Cumulative return (log scale)\")\n",
    "        plt.xlabel(\"Date\")\n",
    "        plt.ylabel(\"Return\")\n",
    "        plt.legend()\n",
    "        plt.show()\n",
    "    \n",
    "\n",
    "    # Return the log return series of the test set\n",
    "    def get_test(self):\n",
    "        initial_price = self.equity_test.iloc[0]\n",
    "        holding = []\n",
    "        for i, price in enumerate(initial_price):\n",
    "            holding.append(self.Capital * self.weightings_t[i] / price)\n",
    "        holding = np.array(holding)\n",
    "        portfolio_equity_test = pd.Series(data=self.equity_test.dot(holding), index=self.equity_test.index)\n",
    "        portfolio_return_test = pd.Series(np.log(portfolio_equity_test / portfolio_equity_test.shift()), index=portfolio_equity_test.index)\n",
    "        portfolio_return_test.dropna(inplace=True)\n",
    "        return portfolio_return_test, portfolio_equity_test\n",
    "    \n"
   ]
  },
  {
   "cell_type": "code",
   "execution_count": null,
   "id": "04427678",
   "metadata": {},
   "outputs": [],
   "source": []
  }
 ],
 "metadata": {
  "celltoolbar": "Raw Cell Format",
  "kernelspec": {
   "display_name": "Python 3 (ipykernel)",
   "language": "python",
   "name": "python3"
  },
  "language_info": {
   "codemirror_mode": {
    "name": "ipython",
    "version": 3
   },
   "file_extension": ".py",
   "mimetype": "text/x-python",
   "name": "python",
   "nbconvert_exporter": "python",
   "pygments_lexer": "ipython3",
   "version": "3.11.5"
  }
 },
 "nbformat": 4,
 "nbformat_minor": 5
}
